{
  "nbformat": 4,
  "nbformat_minor": 0,
  "metadata": {
    "colab": {
      "provenance": []
    },
    "kernelspec": {
      "name": "python3",
      "display_name": "Python 3"
    },
    "language_info": {
      "name": "python"
    }
  },
  "cells": [
    {
      "cell_type": "markdown",
      "source": [
        "# **Theory Questions**"
      ],
      "metadata": {
        "id": "EZGaDtJoAnZU"
      }
    },
    {
      "cell_type": "markdown",
      "source": [
        "Q.1.What is the difference between a function and a method in Python?\n",
        "\n",
        "**ANS**: The key difference between a function and a method in Python lies in how they are used and associated with objects. Here's a breakdown:\n",
        "\n",
        "1. Function\n",
        "Definition: A function is a block of reusable code defined using the def keyword. It operates independently and can be called without being tied to a specific object.\n",
        "\n",
        "**Key Characteristics:**\n",
        "\n",
        "Defined globally or within another function.\n",
        "\n",
        "Does not inherently depend on a class or object.\n",
        "\n",
        "Can be used anywhere once defined.\n",
        "\n",
        "2. Method\n",
        "Definition:\n",
        "\n",
        " A method is a function that is associated with an object and is defined within a class. It typically operates on the object it belongs to and can access its attributes and other methods.\n",
        "\n",
        "**Key Characteristics:**\n",
        "\n",
        "Defined within a class.\n",
        "\n",
        "Called on an instance of the class (or the class itself, for class methods).\n",
        "\n",
        "Has access to the object's context (self), which represents the instance itself.\n",
        "\n",
        "BELOW ARE EXAMPLES OF BOTH."
      ],
      "metadata": {
        "id": "jUR3up1EAlsn"
      }
    },
    {
      "cell_type": "code",
      "source": [
        "def greet(name):\n",
        "    return f\"Hello, {name}!\"\n",
        "\n",
        "print(greet(\"Alice\"))\n"
      ],
      "metadata": {
        "colab": {
          "base_uri": "https://localhost:8080/"
        },
        "id": "o7UveXyBCyA_",
        "outputId": "74da0f4f-4f3d-4647-b801-5b854b0637a5"
      },
      "execution_count": null,
      "outputs": [
        {
          "output_type": "stream",
          "name": "stdout",
          "text": [
            "Hello, Alice!\n"
          ]
        }
      ]
    },
    {
      "cell_type": "code",
      "source": [
        "class Greeter:\n",
        "    def greet(self, name):\n",
        "        return f\"Hello, {name}!\"\n",
        "\n",
        "greeter = Greeter()\n",
        "print(greeter.greet(\"Alice\"))\n"
      ],
      "metadata": {
        "colab": {
          "base_uri": "https://localhost:8080/"
        },
        "id": "cz_LDbI3C682",
        "outputId": "6db2258a-362d-4299-dbed-32d330e915f8"
      },
      "execution_count": null,
      "outputs": [
        {
          "output_type": "stream",
          "name": "stdout",
          "text": [
            "Hello, Alice!\n"
          ]
        }
      ]
    },
    {
      "cell_type": "markdown",
      "source": [
        "Q.2 Explain the concept of function arguments and parameters in Python.\n",
        "\n",
        "**ANS**: In Python, function arguments and parameters are closely related concepts but have distinct roles in defining and using functions.\n",
        "\n",
        "**1. Parameters Definition:** Parameters are the placeholders or variables defined in a function's header to specify the inputs that the function expects. They act as local variables within the function.\n",
        "\n",
        "Purpose: They define the structure of the function and allow it to accept external data when called.\n",
        "\n",
        "**2. Arguments Definition:** Arguments are the actual values or data that you pass to a function when calling it. These values get assigned to the corresponding parameters.\n",
        "\n",
        "Parameters are placeholders defined in the function signature.\n",
        "\n",
        "Arguments are actual values passed during the function call.\n",
        "\n",
        "Python supports multiple argument types: positional, keyword, default, and variable-length arguments, allowing for flexible and dynamic function behavior."
      ],
      "metadata": {
        "id": "KH9GyYhbDRtq"
      }
    },
    {
      "cell_type": "code",
      "source": [
        "def greet(name):  # 'name' is a parameter\n",
        "    return f\"Hello, {name}!\"\n"
      ],
      "metadata": {
        "id": "szuKYCluEKHb"
      },
      "execution_count": null,
      "outputs": []
    },
    {
      "cell_type": "code",
      "source": [
        "print(greet(\"Alice\"))  # 'Alice' is the argument\n"
      ],
      "metadata": {
        "id": "tAMzq4xMERiA",
        "outputId": "632ada2a-cce6-4cf5-d2af-4ebf6fda38cb",
        "colab": {
          "base_uri": "https://localhost:8080/"
        }
      },
      "execution_count": null,
      "outputs": [
        {
          "output_type": "stream",
          "name": "stdout",
          "text": [
            "Hello, Alice!\n"
          ]
        }
      ]
    },
    {
      "cell_type": "markdown",
      "source": [
        "**Q.3. What are the different ways to define and call a function in Python?**\n",
        "\n",
        "**ANS:** In Python, functions can be defined and called in multiple ways, depending on the use case. Below are the different ways to define and call a function in Python.\n",
        "\n",
        "\n",
        "\n",
        "\n",
        "**1. Defining a Function**\n",
        "\n",
        "A function in Python is defined using the def keyword followed by a function name, parameters (optional), and a block of code.\n",
        "\n",
        "\n",
        "**2. Calling a Function**\n",
        "\n",
        "Once a function is defined, it can be called using its name followed by parentheses.\n",
        "\n",
        "\n",
        "\n",
        "**3. Different Ways to Define a Function**\n",
        "\n",
        "Python provides several ways to define functions, allowing flexibility for different use cases.\n",
        "\n",
        "**a) Regular Function**\n",
        " (Using def)\n",
        "\n",
        "**b) Lambda Function (Anonymous Function)**\n",
        "\n",
        "A lambda function is a short, inline function that does not require a def statement.\n",
        "\n",
        "**c) Function Inside a Function (Nested Function)**\n",
        "\n",
        "A function can be defined inside another function.\n",
        "\n",
        "**d) Function with Arbitrary Arguments (args and kwargs)**\n",
        "\n",
        "Using *args for multiple positional arguments\n",
        "\n",
        "**e) Function as an Argument to Another Function**\n",
        "\n",
        "Functions can be passed as arguments to other functions.\n",
        "\n",
        "**f) Returning a Function**\n",
        "\n",
        "A function can return another function.\n",
        "\n",
        "**g) Class Method (Function Inside a Class)**\n",
        "\n",
        "Methods in a class are functions that operate on class instances."
      ],
      "metadata": {
        "id": "6BLliQGtMf9k"
      }
    },
    {
      "cell_type": "code",
      "source": [
        "def greet():\n",
        "    return \"Hello!\"\n"
      ],
      "metadata": {
        "id": "oFhPB7rZQNkx"
      },
      "execution_count": 1,
      "outputs": []
    },
    {
      "cell_type": "code",
      "source": [
        "def greet(name):\n",
        "    return f\"Hello, {name}!\"\n"
      ],
      "metadata": {
        "id": "rGXZMygrQS7Y"
      },
      "execution_count": 2,
      "outputs": []
    },
    {
      "cell_type": "code",
      "source": [
        "def greet(name=\"Guest\"):\n",
        "    return f\"Hello, {name}!\"\n"
      ],
      "metadata": {
        "id": "dPdoappAQZce"
      },
      "execution_count": 3,
      "outputs": []
    },
    {
      "cell_type": "code",
      "source": [
        "def add(a, b):\n",
        "    return a + b\n"
      ],
      "metadata": {
        "id": "vciM5x3GQd9v"
      },
      "execution_count": 4,
      "outputs": []
    },
    {
      "cell_type": "code",
      "source": [
        "print(greet())  # Output: \"Hello!\"\n"
      ],
      "metadata": {
        "colab": {
          "base_uri": "https://localhost:8080/"
        },
        "id": "M7QjSMuxQjTE",
        "outputId": "ecfb574d-de16-4849-d8a5-16db6f074617"
      },
      "execution_count": 5,
      "outputs": [
        {
          "output_type": "stream",
          "name": "stdout",
          "text": [
            "Hello, Guest!\n"
          ]
        }
      ]
    },
    {
      "cell_type": "code",
      "source": [
        "print(greet(\"Alice\"))  # Output: \"Hello, Alice!\"\n"
      ],
      "metadata": {
        "colab": {
          "base_uri": "https://localhost:8080/"
        },
        "id": "th-Dv6hnQnrM",
        "outputId": "81035f9b-f690-40a3-e7eb-2f73e692b48d"
      },
      "execution_count": 6,
      "outputs": [
        {
          "output_type": "stream",
          "name": "stdout",
          "text": [
            "Hello, Alice!\n"
          ]
        }
      ]
    },
    {
      "cell_type": "code",
      "source": [
        "print(greet())         # Uses default: \"Guest\"\n",
        "print(greet(\"Bob\"))    # Overrides default: \"Bob\"\n"
      ],
      "metadata": {
        "colab": {
          "base_uri": "https://localhost:8080/"
        },
        "id": "kwh_RghVQqjC",
        "outputId": "07fc80ec-f535-44dd-9975-fda595909423"
      },
      "execution_count": 7,
      "outputs": [
        {
          "output_type": "stream",
          "name": "stdout",
          "text": [
            "Hello, Guest!\n",
            "Hello, Bob!\n"
          ]
        }
      ]
    },
    {
      "cell_type": "code",
      "source": [
        "def square(x):\n",
        "    return x * x\n"
      ],
      "metadata": {
        "id": "FmhnFrI7QsQo"
      },
      "execution_count": 8,
      "outputs": []
    },
    {
      "cell_type": "code",
      "source": [
        "def outer_function(name):\n",
        "    def inner_function():\n",
        "        return f\"Hello, {name}!\"\n",
        "    return inner_function()\n"
      ],
      "metadata": {
        "id": "S5_EQ2VmThXN"
      },
      "execution_count": 9,
      "outputs": []
    },
    {
      "cell_type": "code",
      "source": [
        "def apply_function(func, value):\n",
        "    return func(value)\n",
        "\n",
        "def double(x):\n",
        "    return x * 2\n",
        "\n",
        "print(apply_function(double, 5))  # Output: 10\n"
      ],
      "metadata": {
        "colab": {
          "base_uri": "https://localhost:8080/"
        },
        "id": "zS3Z9Ob4T3vZ",
        "outputId": "ee88cd8a-453d-447d-eb4d-cceb07a2fa06"
      },
      "execution_count": 10,
      "outputs": [
        {
          "output_type": "stream",
          "name": "stdout",
          "text": [
            "10\n"
          ]
        }
      ]
    },
    {
      "cell_type": "code",
      "source": [
        "class Person:\n",
        "    def __init__(self, name):\n",
        "        self.name = name\n",
        "\n",
        "    def greet(self):\n",
        "        return f\"Hello, my name is {self.name}.\"\n",
        "\n",
        "p = Person(\"Alice\")\n",
        "print(p.greet())  # Output: \"Hello, my name is Alice.\"\n"
      ],
      "metadata": {
        "colab": {
          "base_uri": "https://localhost:8080/"
        },
        "id": "tq-Q45jiT8Yf",
        "outputId": "203e64ab-2166-49d9-b081-079128627f3f"
      },
      "execution_count": 11,
      "outputs": [
        {
          "output_type": "stream",
          "name": "stdout",
          "text": [
            "Hello, my name is Alice.\n"
          ]
        }
      ]
    },
    {
      "cell_type": "markdown",
      "source": [
        "**Q.4. What is the purpose of the `return` statement in a Python function?**\n",
        "\n",
        "**ANS:** The return statement in a Python function is used to send a value (or multiple values) back to the caller and terminate the function's execution. It allows the function to produce a result that can be stored in a variable, used in an expression, or passed to another function.\n",
        "\n",
        "**Key Points:**\n",
        "\n",
        "Returns a Value: The function sends a value back to the caller.\n",
        "\n",
        "Terminates Execution: Once return is executed, the function stops running.\n",
        "\n",
        "Optional Statement: If a function has no return, it returns None by default."
      ],
      "metadata": {
        "id": "BUnwpuj1YxMt"
      }
    },
    {
      "cell_type": "code",
      "source": [
        "def add(a, b):\n",
        "    return a + b  # Returns the sum of a and b\n",
        "\n",
        "result = add(3, 5)\n",
        "print(result)  # Output: 8\n"
      ],
      "metadata": {
        "colab": {
          "base_uri": "https://localhost:8080/"
        },
        "id": "u0JJzd_PZX-h",
        "outputId": "87f5ff22-3daa-4f12-fe2a-770d8bbcdb7e"
      },
      "execution_count": 12,
      "outputs": [
        {
          "output_type": "stream",
          "name": "stdout",
          "text": [
            "8\n"
          ]
        }
      ]
    },
    {
      "cell_type": "code",
      "source": [
        "def greet():\n",
        "    print(\"Hello!\")\n",
        "\n",
        "result = greet()\n",
        "print(result)  # Output: Hello! \\n None         If no return is used:\n"
      ],
      "metadata": {
        "colab": {
          "base_uri": "https://localhost:8080/"
        },
        "id": "-oqYbCRTZnpU",
        "outputId": "fdfd0afe-9d25-4141-cc79-7c136ec02987"
      },
      "execution_count": 13,
      "outputs": [
        {
          "output_type": "stream",
          "name": "stdout",
          "text": [
            "Hello!\n",
            "None\n"
          ]
        }
      ]
    },
    {
      "cell_type": "markdown",
      "source": [
        "**Q.5. What are iterators in Python and how do they differ from iterables?**\n",
        "\n",
        "**ANS:** Iterators vs. Iterables in Python\n",
        "\n",
        "**1. Iterables:**\n",
        "\n",
        "An iterable is any object that can be looped over (iterated). It contains a collection of elements and provides an iterator when passed to the iter() function.\n",
        "\n",
        "Lists (list), tuples (tuple), sets (set), dictionaries (dict), and strings (str) are all iterables.\n",
        "\n",
        "**2. Iterators:**\n",
        "An iterator is an object that remembers its position while iterating and produces the next element using the next() function. It implements two special methods:\n",
        "\n",
        "__iter__() → Returns the iterator itself.\n",
        "\n",
        "__next__() → Returns the next value, raising StopIteration when there are no more items.\n",
        "\n",
        "**Conclusion**\n",
        "\n",
        "Iterables are containers that can be looped over.\n",
        "\n",
        "Iterators are objects that produce one value at a time.\n",
        "\n",
        "An iterator is also an iterable, but an iterable is not necessarily an iterator."
      ],
      "metadata": {
        "id": "MHCNv6ZoZ1aT"
      }
    },
    {
      "cell_type": "code",
      "source": [
        "my_list = [1, 2, 3]\n",
        "for item in my_list:  # Iterating over a list (iterable)\n",
        "    print(item)\n"
      ],
      "metadata": {
        "colab": {
          "base_uri": "https://localhost:8080/"
        },
        "id": "flahdUp_ax1-",
        "outputId": "f806487d-6949-4d9e-a316-ab32fe97a851"
      },
      "execution_count": 14,
      "outputs": [
        {
          "output_type": "stream",
          "name": "stdout",
          "text": [
            "1\n",
            "2\n",
            "3\n"
          ]
        }
      ]
    },
    {
      "cell_type": "code",
      "source": [
        "class CountUp:\n",
        "    def __init__(self, max):\n",
        "        self.max = max\n",
        "        self.current = 0\n",
        "\n",
        "    def __iter__(self):\n",
        "        return self\n",
        "\n",
        "    def __next__(self):\n",
        "        if self.current >= self.max:\n",
        "            raise StopIteration\n",
        "        self.current += 1\n",
        "        return self.current\n",
        "\n",
        "counter = CountUp(3)\n",
        "for num in counter:\n",
        "    print(num)  # Output: 1, 2, 3\n"
      ],
      "metadata": {
        "colab": {
          "base_uri": "https://localhost:8080/"
        },
        "id": "sbhnxtaza81M",
        "outputId": "364d1e7d-f125-49ce-def1-646eea999a64"
      },
      "execution_count": 16,
      "outputs": [
        {
          "output_type": "stream",
          "name": "stdout",
          "text": [
            "1\n",
            "2\n",
            "3\n"
          ]
        }
      ]
    },
    {
      "cell_type": "markdown",
      "source": [
        "**Q.6. Explain the concept of generators in Python and how they are defined.**\n",
        "\n",
        "**ANS** A generator is a special type of iterable that produces values lazily (one at a time) using the yield keyword instead of return. This makes generators more memory-efficient than lists, as they do not store all values in memory at once.\n",
        "\n",
        "**Defining a Generator**\n",
        "\n",
        "A generator is defined using a function that contains one or more yield statements. Each time the generator’s __next__() method is called, execution resumes from where it left off, yielding the next value.\n",
        "\n",
        "**How Generators Work**\n",
        "When yield is encountered, the function's state (local variables, execution position) is saved.\n",
        "\n",
        "When next() is called again, execution resumes from where it was paused.\n",
        "\n",
        "When there are no more yield statements, StopIteration is raised.\n",
        "\n",
        "**Advantages of Generators**\n",
        "\n",
        "✅ Memory Efficient – Ideal for large datasets (e.g., reading files line by line).\n",
        "\n",
        "✅ Lazy Evaluation – Generates values only when needed.\n",
        "\n",
        "✅ Simplifies Code – Avoids the need for manually handling state with classes and iterators\n",
        "\n",
        "**Conclusion**\n",
        "Generators provide an efficient way to iterate over large datasets without\n",
        " consuming too much memory. They are defined using yield and can be used like iterators with next() or loops."
      ],
      "metadata": {
        "id": "MwPy7k7LbVvX"
      }
    },
    {
      "cell_type": "code",
      "source": [
        "def count_up(n):\n",
        "    for i in range(n):\n",
        "        yield i\n",
        "\n",
        "for num in count_up(5):\n",
        "    print(num)  # Output: 0, 1, 2, 3, 4\n"
      ],
      "metadata": {
        "colab": {
          "base_uri": "https://localhost:8080/"
        },
        "id": "eBNDdTs3cc6R",
        "outputId": "052e46e7-b6e6-4fe7-9ed1-6f8626ad405c"
      },
      "execution_count": 18,
      "outputs": [
        {
          "output_type": "stream",
          "name": "stdout",
          "text": [
            "0\n",
            "1\n",
            "2\n",
            "3\n",
            "4\n"
          ]
        }
      ]
    },
    {
      "cell_type": "code",
      "source": [
        "gen_exp = (x * x for x in range(5))\n",
        "print(next(gen_exp))  # Output: 0\n",
        "print(next(gen_exp))  # Output: 1\n",
        "print(next(gen_exp))  # Output: 4\n"
      ],
      "metadata": {
        "colab": {
          "base_uri": "https://localhost:8080/"
        },
        "id": "dgxx8j6GcnuT",
        "outputId": "15141170-1328-4e72-cdfb-2be926e31fd7"
      },
      "execution_count": 19,
      "outputs": [
        {
          "output_type": "stream",
          "name": "stdout",
          "text": [
            "0\n",
            "1\n",
            "4\n"
          ]
        }
      ]
    },
    {
      "cell_type": "markdown",
      "source": [
        "**Q.7. What are the advantages of using generators over regular functions?**\n",
        "\n",
        "**ANS** Advantages of Using Generators Over Regular Functions\n",
        "\n",
        "Generators offer several advantages over regular functions, particularly when dealing with large datasets or streaming data. Here’s why they are beneficial:\n",
        "\n",
        "**1. Memory Efficiency 🛠️**\n",
        "\n",
        "✅ Generates values lazily (on demand) instead of storing them all in memory.\n",
        "\n",
        "✅ Useful for working with large files, infinite sequences, or large datasets.\n",
        "\n",
        "**2. Faster Execution 🚀**\n",
        "\n",
        "✅ Since values are computed only when needed, generators are faster than returning a list of precomputed values.\n",
        "\n",
        "✅ Avoids the overhead of creating and storing large data structures.\n",
        "\n",
        "\n",
        "**3. Simplifies Code 📝**\n",
        "\n",
        "✅ Avoids complex state management (e.g., maintaining an index in loops).\n",
        "\n",
        "✅ No need to store and return all values explicitly.\n",
        "\n",
        "**4. Supports Infinite Sequences ♾️**\n",
        "\n",
        "✅ Regular functions must return all values at once, but generators produce values indefinitely.\n",
        "\n",
        "**5. Can Be Used in Pipelines ⛓️**\n",
        "\n",
        "✅ Generators can be chained together for data processing, improving efficiency.\n",
        "\n",
        "**Conclusion**\n",
        "✅ Generators save memory (lazy evaluation).\n",
        "\n",
        "✅ They are faster (no need to precompute all values).\n",
        "\n",
        "✅ Simplifies iteration logic (no explicit storage required).\n",
        "\n",
        "✅ Handles infinite sequences efficiently.\n",
        "\n",
        "✅ Ideal for streaming and data pipelines.\n",
        "\n"
      ],
      "metadata": {
        "id": "owoZLLJZczik"
      }
    },
    {
      "cell_type": "code",
      "source": [
        "def large_numbers():\n",
        "    n = 0\n",
        "    while True:\n",
        "        yield n\n",
        "        n += 1\n",
        "\n",
        "gen = large_numbers()  # Only stores the current value, not the whole sequence\n"
      ],
      "metadata": {
        "id": "cm-tHTjwexrg"
      },
      "execution_count": 20,
      "outputs": []
    },
    {
      "cell_type": "code",
      "source": [
        "def squares_list(n):\n",
        "    return [x * x for x in range(n)]  # Returns a list (takes more memory)\n",
        "\n",
        "def squares_generator(n):\n",
        "    for x in range(n):\n",
        "        yield x * x  # Returns one value at a time\n",
        "\n",
        "# The generator approach is faster for large `n`\n"
      ],
      "metadata": {
        "id": "v3dl-rOAe3Zl"
      },
      "execution_count": 21,
      "outputs": []
    },
    {
      "cell_type": "code",
      "source": [
        "def fibonacci():\n",
        "    a, b = 0, 1\n",
        "    while True:\n",
        "        yield a\n",
        "        a, b = b, a + b\n",
        "\n",
        "fib = fibonacci()\n",
        "print(next(fib))  # Output: 0\n",
        "print(next(fib))  # Output: 1\n",
        "print(next(fib))  # Output: 1\n"
      ],
      "metadata": {
        "colab": {
          "base_uri": "https://localhost:8080/"
        },
        "id": "bjR7vkBee6VC",
        "outputId": "e103d55c-1125-4ccd-fcc4-1f2aa47fa7af"
      },
      "execution_count": 22,
      "outputs": [
        {
          "output_type": "stream",
          "name": "stdout",
          "text": [
            "0\n",
            "1\n",
            "1\n"
          ]
        }
      ]
    },
    {
      "cell_type": "code",
      "source": [
        "def even_numbers():\n",
        "    n = 0\n",
        "    while True:\n",
        "        yield n\n",
        "        n += 2\n",
        "\n",
        "evens = even_numbers()\n",
        "print(next(evens))  # Output: 0\n",
        "print(next(evens))  # Output: 2\n"
      ],
      "metadata": {
        "colab": {
          "base_uri": "https://localhost:8080/"
        },
        "id": "nq14ukZce9mH",
        "outputId": "0dcd8584-3eff-4c3f-f766-a3f48c912b1e"
      },
      "execution_count": 23,
      "outputs": [
        {
          "output_type": "stream",
          "name": "stdout",
          "text": [
            "0\n",
            "2\n"
          ]
        }
      ]
    },
    {
      "cell_type": "code",
      "source": [
        "def numbers():\n",
        "    for i in range(10):\n",
        "        yield i\n",
        "\n",
        "def squared(nums):\n",
        "    for num in nums:\n",
        "        yield num * num\n",
        "\n",
        "squares = squared(numbers())  # Uses generator output as input\n",
        "print(list(squares))  # Output: [0, 1, 4, 9, 16, 25, 36, 49, 64, 81]\n"
      ],
      "metadata": {
        "colab": {
          "base_uri": "https://localhost:8080/"
        },
        "id": "He67ywFHfBHT",
        "outputId": "404c4f04-d181-4aca-f16b-9a0c4a38a8ef"
      },
      "execution_count": 24,
      "outputs": [
        {
          "output_type": "stream",
          "name": "stdout",
          "text": [
            "[0, 1, 4, 9, 16, 25, 36, 49, 64, 81]\n"
          ]
        }
      ]
    },
    {
      "cell_type": "markdown",
      "source": [
        "**Q.8. What is a lambda function in Python and when is it typically used?**\n",
        "\n",
        "**ANS** Lambda Function in Python\n",
        "\n",
        "A lambda function in Python is a short, anonymous function that is defined using the lambda keyword. It can take multiple arguments but can only have a single expression.\n",
        "\n",
        "\n",
        "\n",
        "**Syntax of a Lambda Function**\n",
        "\n",
        "\n",
        "**lambda arguments: expression**\n",
        "\n",
        "The function evaluates the expression and returns the result.\n",
        "\n",
        "It does not require a return statement.\n",
        "\n",
        "It is useful for short, simple operations.\n",
        "\n",
        "When to Use Lambda Functions?\n",
        "\n",
        "1. When You Need a Small,\n",
        " One-Time Function\n",
        "Lambda functions are useful when you need a quick function without defining it separately.\n",
        "\n",
        "2. When Used with Higher-Order Functions\n",
        "\n",
        "Lambda functions work well with functions like map(), filter(), and sorted().\n",
        "\n",
        "3. When Passing a Function as an Argument\n",
        "\n",
        "Lambda functions can be used directly inside function calls.\n",
        "\n",
        "When NOT to Use Lambda Functions?\n",
        "\n",
        "❌ When logic is too complex → Use def for better readability.\n",
        "\n",
        "❌ When multiple expressions are needed → Lambda supports only one expression.\n",
        "\n",
        "❌ When debugging is necessary → Lambdas have no meaningful function name or error messages.\n",
        "\n",
        "Conclusion\n",
        "\n",
        "✅ Lambda functions are useful for short, anonymous operations.\n",
        "\n",
        "✅ They are commonly used with map(), filter(), sorted(), and as function arguments.\n",
        "\n",
        "✅ For complex functions, use def instead for better readability and maintainability."
      ],
      "metadata": {
        "id": "JZ9fLoH4frzA"
      }
    },
    {
      "cell_type": "code",
      "source": [
        "add = lambda x, y: x + y\n",
        "print(add(3, 5))  # Output: 8\n"
      ],
      "metadata": {
        "colab": {
          "base_uri": "https://localhost:8080/"
        },
        "id": "2lCVZ9bEg65F",
        "outputId": "095ad8f6-6880-418c-c6c0-e8f40fa71c50"
      },
      "execution_count": 25,
      "outputs": [
        {
          "output_type": "stream",
          "name": "stdout",
          "text": [
            "8\n"
          ]
        }
      ]
    },
    {
      "cell_type": "code",
      "source": [
        "square = lambda x: x * x\n",
        "print(square(4))  # Output: 16\n"
      ],
      "metadata": {
        "colab": {
          "base_uri": "https://localhost:8080/"
        },
        "id": "TB0-HuH-hCPS",
        "outputId": "5373c0f4-cd53-402e-a040-53e819310bb4"
      },
      "execution_count": 26,
      "outputs": [
        {
          "output_type": "stream",
          "name": "stdout",
          "text": [
            "16\n"
          ]
        }
      ]
    },
    {
      "cell_type": "code",
      "source": [
        "numbers = [1, 2, 3, 4]\n",
        "squared = list(map(lambda x: x**2, numbers))\n",
        "print(squared)  # Output: [1, 4, 9, 16]\n"
      ],
      "metadata": {
        "colab": {
          "base_uri": "https://localhost:8080/"
        },
        "id": "vr-fm9NGhFPJ",
        "outputId": "c8f3cc11-0bc2-48fb-8a8e-0d3629a38625"
      },
      "execution_count": 27,
      "outputs": [
        {
          "output_type": "stream",
          "name": "stdout",
          "text": [
            "[1, 4, 9, 16]\n"
          ]
        }
      ]
    },
    {
      "cell_type": "code",
      "source": [
        "numbers = [1, 2, 3, 4, 5, 6]\n",
        "evens = list(filter(lambda x: x % 2 == 0, numbers))\n",
        "print(evens)  # Output: [2, 4, 6]\n"
      ],
      "metadata": {
        "colab": {
          "base_uri": "https://localhost:8080/"
        },
        "id": "Ny2vcTbQhIC0",
        "outputId": "0cb7eee1-3b92-4f10-f3d2-2817dd95e686"
      },
      "execution_count": 28,
      "outputs": [
        {
          "output_type": "stream",
          "name": "stdout",
          "text": [
            "[2, 4, 6]\n"
          ]
        }
      ]
    },
    {
      "cell_type": "code",
      "source": [
        "words = [\"apple\", \"banana\", \"kiwi\"]\n",
        "sorted_words = sorted(words, key=lambda word: len(word))\n",
        "print(sorted_words)  # Output: ['kiwi', 'apple', 'banana']\n"
      ],
      "metadata": {
        "colab": {
          "base_uri": "https://localhost:8080/"
        },
        "id": "8lCkKPHyhK9O",
        "outputId": "e02ca8ba-90bf-494e-8b87-dd2b741254e6"
      },
      "execution_count": 29,
      "outputs": [
        {
          "output_type": "stream",
          "name": "stdout",
          "text": [
            "['kiwi', 'apple', 'banana']\n"
          ]
        }
      ]
    },
    {
      "cell_type": "code",
      "source": [
        "def operate(func, a, b):\n",
        "    return func(a, b)\n",
        "\n",
        "result = operate(lambda x, y: x * y, 5, 3)\n",
        "print(result)  # Output: 15\n"
      ],
      "metadata": {
        "colab": {
          "base_uri": "https://localhost:8080/"
        },
        "id": "A1d4c2XDhNla",
        "outputId": "b6cc7b91-958c-45dd-e8d9-bba0f6dfc71a"
      },
      "execution_count": 30,
      "outputs": [
        {
          "output_type": "stream",
          "name": "stdout",
          "text": [
            "15\n"
          ]
        }
      ]
    },
    {
      "cell_type": "markdown",
      "source": [
        "**Q.9. Explain the purpose and usage of the `map()` function in Python.**\n",
        "\n",
        "**ANS:** The map() Function in Python\n",
        "\n",
        "The map() function applies a given function to each item of an iterable (e.g., list, tuple) and returns an iterator with the transformed values.\n",
        "\n",
        "function: A function that takes one or more arguments.\n",
        "\n",
        "iterable: A sequence (e.g., list, tuple) to apply the function to.\n",
        "\n",
        "Returns a map object (iterator), which can be converted into a list, tuple, or set.\n",
        "\n",
        "\n",
        "When to Use map()?\n",
        "\n",
        "✅ When applying a function to each item in an iterable.\n",
        "\n",
        "✅ When using built-in functions (e.g., str.upper, abs).\n",
        "\n",
        "✅ When working with multiple iterables at once.\n",
        "\n",
        "\n",
        "❌ Avoid map() when list comprehensions make the code more readable.\n",
        "\n",
        "Conclusion\n",
        "\n",
        "map() applies a function to all elements in an iterable.\n",
        "\n",
        "It returns an iterator, which can be converted into a list, tuple, etc.\n",
        "\n",
        "It is efficient for large datasets since it doesn’t create a new list in memory.\n",
        "\n",
        "In many cases, list comprehensions provide better readability"
      ],
      "metadata": {
        "id": "w_N8EaM9hVgm"
      }
    },
    {
      "cell_type": "code",
      "source": [
        "numbers = [1, 2, 3, 4]\n",
        "squared = map(lambda x: x**2, numbers)  # Apply square function\n",
        "print(list(squared))  # Output: [1, 4, 9, 16]\n"
      ],
      "metadata": {
        "colab": {
          "base_uri": "https://localhost:8080/"
        },
        "id": "MUwJrn7mh3dB",
        "outputId": "ed4a987a-ddc1-4ca7-df38-3755dba4acda"
      },
      "execution_count": 31,
      "outputs": [
        {
          "output_type": "stream",
          "name": "stdout",
          "text": [
            "[1, 4, 9, 16]\n"
          ]
        }
      ]
    },
    {
      "cell_type": "code",
      "source": [
        "words = [\"hello\", \"world\", \"python\"]\n",
        "uppercased = map(str.upper, words)\n",
        "print(list(uppercased))  # Output: ['HELLO', 'WORLD', 'PYTHON']\n"
      ],
      "metadata": {
        "colab": {
          "base_uri": "https://localhost:8080/"
        },
        "id": "2xxmQBejh7Bm",
        "outputId": "96a49197-cc78-4112-fba7-d52f982a83cf"
      },
      "execution_count": 32,
      "outputs": [
        {
          "output_type": "stream",
          "name": "stdout",
          "text": [
            "['HELLO', 'WORLD', 'PYTHON']\n"
          ]
        }
      ]
    },
    {
      "cell_type": "code",
      "source": [
        "a = [1, 2, 3]\n",
        "b = [4, 5, 6]\n",
        "\n",
        "sum_result = map(lambda x, y: x + y, a, b)\n",
        "print(list(sum_result))  # Output: [5, 7, 9]\n"
      ],
      "metadata": {
        "colab": {
          "base_uri": "https://localhost:8080/"
        },
        "id": "5-A6-Qf8h-D0",
        "outputId": "49a4bf0a-a0cb-4a01-a1e2-7f51a83ddb46"
      },
      "execution_count": 33,
      "outputs": [
        {
          "output_type": "stream",
          "name": "stdout",
          "text": [
            "[5, 7, 9]\n"
          ]
        }
      ]
    },
    {
      "cell_type": "code",
      "source": [
        "nums = [1, 2, 3]\n",
        "doubled = map(lambda x: x * 2, nums)\n",
        "print(list(doubled))  # Output: [2, 4, 6]\n"
      ],
      "metadata": {
        "colab": {
          "base_uri": "https://localhost:8080/"
        },
        "id": "pR2zJuGXiA15",
        "outputId": "9bf07b09-0cf3-4ee6-f81f-90febcd0e7e7"
      },
      "execution_count": 34,
      "outputs": [
        {
          "output_type": "stream",
          "name": "stdout",
          "text": [
            "[2, 4, 6]\n"
          ]
        }
      ]
    },
    {
      "cell_type": "markdown",
      "source": [
        "**Q.10. What is the difference between `map()`, `reduce()`, and `filter()` functions in Python?**\n",
        "\n",
        "**ANS:** Difference Between map(), reduce(), and filter() in Python\n",
        "\n",
        "Python provides three useful higher-order functions—map(), filter(), and reduce()—to process iterables efficiently. Each serves a different purpose.\n",
        "\n",
        "1️⃣ map() – Transforming Elements\n",
        "\n",
        "Purpose: Applies a function to each element of an iterable and returns an iterator of transformed values.\n",
        "\n",
        "Best for: Performing element-wise modifications (e.g., squaring numbers, converting strings to uppercase).\n",
        "\n",
        "2️⃣ filter() – Selecting Elements Based on a Condition\n",
        "\n",
        "Purpose: Applies a function to each element and returns only the elements that satisfy a condition (i.e., where the function returns True).\n",
        "\n",
        "Best for: Filtering elements based on a condition.\n",
        "\n",
        "3️⃣ reduce() – Reducing a List to a Single Value\n",
        "\n",
        "Purpose: Applies a function cumulatively to reduce an iterable into a single value.\n",
        "\n",
        "Best for: Summing, multiplying, or aggregating values in a sequence.\n",
        "\n",
        "Summary\n",
        "\n",
        "✅ Use map() when you want to modify each element in an iterable.\n",
        "\n",
        "✅ Use filter() when you want to select elements based on a condition.\n",
        "\n",
        "✅ Use reduce() when you need to combine all elements into a single value."
      ],
      "metadata": {
        "id": "j-mArxjiiSR-"
      }
    },
    {
      "cell_type": "code",
      "source": [
        "numbers = [1, 2, 3, 4]\n",
        "squared = map(lambda x: x**2, numbers)\n",
        "print(list(squared))  # Output: [1, 4, 9, 16]\n"
      ],
      "metadata": {
        "colab": {
          "base_uri": "https://localhost:8080/"
        },
        "id": "msCaKLiPjDht",
        "outputId": "938d52cb-4760-4845-de22-b774de611e17"
      },
      "execution_count": 35,
      "outputs": [
        {
          "output_type": "stream",
          "name": "stdout",
          "text": [
            "[1, 4, 9, 16]\n"
          ]
        }
      ]
    },
    {
      "cell_type": "code",
      "source": [
        "numbers = [1, 2, 3, 4, 5, 6]\n",
        "evens = filter(lambda x: x % 2 == 0, numbers)\n",
        "print(list(evens))  # Output: [2, 4, 6]\n"
      ],
      "metadata": {
        "colab": {
          "base_uri": "https://localhost:8080/"
        },
        "id": "F-W0tkDXjG3d",
        "outputId": "c3b0ee3f-d94e-4ef3-cfe3-6fd31d1189ca"
      },
      "execution_count": 36,
      "outputs": [
        {
          "output_type": "stream",
          "name": "stdout",
          "text": [
            "[2, 4, 6]\n"
          ]
        }
      ]
    },
    {
      "cell_type": "code",
      "source": [
        "from functools import reduce\n",
        "\n",
        "numbers = [1, 2, 3, 4]\n",
        "product = reduce(lambda x, y: x * y, numbers)\n",
        "print(product)  # Output: 24  (1*2*3*4)\n"
      ],
      "metadata": {
        "colab": {
          "base_uri": "https://localhost:8080/"
        },
        "id": "3bapuZ9RjJuM",
        "outputId": "705d148f-38ae-4f3e-a8e2-87e70ebe864e"
      },
      "execution_count": 37,
      "outputs": [
        {
          "output_type": "stream",
          "name": "stdout",
          "text": [
            "24\n"
          ]
        }
      ]
    },
    {
      "cell_type": "markdown",
      "source": [
        "**Q.11. Using pen & Paper write the internal mechanism for sum operation using  reduce function on this given\n",
        "list:[47,11,42,13];**"
      ],
      "metadata": {
        "id": "PKbYDEXLmRK-"
      }
    },
    {
      "cell_type": "markdown",
      "source": [
        "![WhatsApp Image 2025-01-30 at 19.53.05 (1).jpeg](data:image/jpeg;base64,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)"
      ],
      "metadata": {
        "id": "reElOwMUmtIG"
      }
    },
    {
      "cell_type": "markdown",
      "source": [
        "#Practical Questions:"
      ],
      "metadata": {
        "id": "5dhRJhoJnfcX"
      }
    },
    {
      "cell_type": "markdown",
      "source": [
        "**Q.1. Write a Python function that takes a list of numbers as input and returns the sum of all even numbers in\n",
        "the list.**"
      ],
      "metadata": {
        "id": "Tv_ztHC3noPS"
      }
    },
    {
      "cell_type": "code",
      "source": [
        "def sum_of_evens(numbers):\n",
        "    \"\"\"Returns the sum of all even numbers in the given list.\"\"\"\n",
        "    return sum(num for num in numbers if num % 2 == 0)\n",
        "\n",
        "# Example usage\n",
        "numbers = [47, 11, 42, 13, 8, 22]\n",
        "result = sum_of_evens(numbers)\n",
        "print(result)  # Output: 72 (42 + 8 + 22)\n"
      ],
      "metadata": {
        "colab": {
          "base_uri": "https://localhost:8080/"
        },
        "id": "ukPXJYfTn3RC",
        "outputId": "3ef6c2c0-939e-4bf8-b2f8-01e684a206c7"
      },
      "execution_count": 1,
      "outputs": [
        {
          "output_type": "stream",
          "name": "stdout",
          "text": [
            "72\n"
          ]
        }
      ]
    },
    {
      "cell_type": "markdown",
      "source": [
        "**Q.2. Create a Python function that accepts a string and returns the reverse of that string.**"
      ],
      "metadata": {
        "id": "6EFKd1S2n_ps"
      }
    },
    {
      "cell_type": "code",
      "source": [
        "def reverse_string(s):\n",
        "    \"\"\"Returns the reverse of the given string.\"\"\"\n",
        "    return s[::-1]\n",
        "\n",
        "# Example usage\n",
        "text = \"hello\"\n",
        "result = reverse_string(text)\n",
        "print(result)  # Output: \"olleh\"\n"
      ],
      "metadata": {
        "colab": {
          "base_uri": "https://localhost:8080/"
        },
        "id": "LJ70nB1EoUT9",
        "outputId": "a0c7aa9d-6da0-462a-f907-a8438d0c4fd1"
      },
      "execution_count": 2,
      "outputs": [
        {
          "output_type": "stream",
          "name": "stdout",
          "text": [
            "olleh\n"
          ]
        }
      ]
    },
    {
      "cell_type": "markdown",
      "source": [
        "**Q.3. Implement a Python function that takes a list of integers and returns a new list containing the squares of\n",
        "each number.**"
      ],
      "metadata": {
        "id": "j4KoisfupBeg"
      }
    },
    {
      "cell_type": "code",
      "source": [
        "def square_numbers(numbers):\n",
        "    \"\"\"Returns a list containing the squares of each number in the given list.\"\"\"\n",
        "    return [num ** 2 for num in numbers]\n",
        "\n",
        "# Example usage\n",
        "nums = [1, 2, 3, 4, 5]\n",
        "result = square_numbers(nums)\n",
        "print(result)  # Output: [1, 4, 9, 16, 25]\n"
      ],
      "metadata": {
        "colab": {
          "base_uri": "https://localhost:8080/"
        },
        "id": "cKzX-5jOpEXx",
        "outputId": "a0804568-a9aa-474f-d9a0-0ce7a273996c"
      },
      "execution_count": 3,
      "outputs": [
        {
          "output_type": "stream",
          "name": "stdout",
          "text": [
            "[1, 4, 9, 16, 25]\n"
          ]
        }
      ]
    },
    {
      "cell_type": "markdown",
      "source": [
        "**Q.4. Write a Python function that checks if a given number is prime or not from 1 to 200.**"
      ],
      "metadata": {
        "id": "DQmjv7DEpOm4"
      }
    },
    {
      "cell_type": "code",
      "source": [
        "def is_prime(n):\n",
        "    \"\"\"Returns True if n is a prime number, otherwise False.\"\"\"\n",
        "    if n < 2:\n",
        "        return False\n",
        "    for i in range(2, int(n ** 0.5) + 1):\n",
        "        if n % i == 0:\n",
        "            return False\n",
        "    return True\n",
        "\n",
        "# Example usage: Check prime numbers from 1 to 200\n",
        "primes = [num for num in range(1, 201) if is_prime(num)]\n",
        "print(primes)\n"
      ],
      "metadata": {
        "colab": {
          "base_uri": "https://localhost:8080/"
        },
        "id": "aXH8o35VpRLQ",
        "outputId": "27ad46d5-2447-4078-f0a0-9849860081f1"
      },
      "execution_count": 4,
      "outputs": [
        {
          "output_type": "stream",
          "name": "stdout",
          "text": [
            "[2, 3, 5, 7, 11, 13, 17, 19, 23, 29, 31, 37, 41, 43, 47, 53, 59, 61, 67, 71, 73, 79, 83, 89, 97, 101, 103, 107, 109, 113, 127, 131, 137, 139, 149, 151, 157, 163, 167, 173, 179, 181, 191, 193, 197, 199]\n"
          ]
        }
      ]
    },
    {
      "cell_type": "markdown",
      "source": [
        "**Q.5. Create an iterator class in Python that generates the Fibonacci sequence up to a specified number of\n",
        "terms.**"
      ],
      "metadata": {
        "id": "WE3BoWGcp3JV"
      }
    },
    {
      "cell_type": "code",
      "source": [
        "class FibonacciIterator:\n",
        "    \"\"\"An iterator that generates the Fibonacci sequence up to a specified number of terms.\"\"\"\n",
        "\n",
        "    def __init__(self, n_terms):\n",
        "        self.n_terms = n_terms  # Total terms to generate\n",
        "        self.a, self.b = 0, 1   # First two Fibonacci numbers\n",
        "        self.count = 0          # Counter to track iterations\n",
        "\n",
        "    def __iter__(self):\n",
        "        return self  # The class itself is the iterator\n",
        "\n",
        "    def __next__(self):\n",
        "        if self.count >= self.n_terms:\n",
        "            raise StopIteration  # Stop when the limit is reached\n",
        "\n",
        "        fib_number = self.a  # Current Fibonacci number\n",
        "        self.a, self.b = self.b, self.a + self.b  # Update values\n",
        "        self.count += 1  # Increment counter\n",
        "\n",
        "        return fib_number  # Return the Fibonacci number\n",
        "\n",
        "# Example usage:\n",
        "fib_iter = FibonacciIterator(10)  # Generate 10 Fibonacci numbers\n",
        "print(list(fib_iter))  # Output: [0, 1, 1, 2, 3, 5, 8, 13, 21, 34]\n"
      ],
      "metadata": {
        "colab": {
          "base_uri": "https://localhost:8080/"
        },
        "id": "y_8IQtPpp6Jc",
        "outputId": "2ce948ef-52e4-4925-8aa0-8d6e01809a60"
      },
      "execution_count": 5,
      "outputs": [
        {
          "output_type": "stream",
          "name": "stdout",
          "text": [
            "[0, 1, 1, 2, 3, 5, 8, 13, 21, 34]\n"
          ]
        }
      ]
    },
    {
      "cell_type": "markdown",
      "source": [
        "**Q.6. Write a generator function in Python that yields the powers of 2 up to a given exponent.**"
      ],
      "metadata": {
        "id": "PG6VA0i7qEFi"
      }
    },
    {
      "cell_type": "code",
      "source": [
        "def powers_of_two(max_exponent):\n",
        "    \"\"\"Generator that yields powers of 2 up to 2^max_exponent.\"\"\"\n",
        "    for exponent in range(max_exponent + 1):\n",
        "        yield 2 ** exponent\n",
        "\n",
        "# Example usage:\n",
        "for power in powers_of_two(5):\n",
        "    print(power)\n"
      ],
      "metadata": {
        "colab": {
          "base_uri": "https://localhost:8080/"
        },
        "id": "-HGH4NTRqG4n",
        "outputId": "8ad9ae7e-feda-4549-db71-9834e9b23fcb"
      },
      "execution_count": 6,
      "outputs": [
        {
          "output_type": "stream",
          "name": "stdout",
          "text": [
            "1\n",
            "2\n",
            "4\n",
            "8\n",
            "16\n",
            "32\n"
          ]
        }
      ]
    },
    {
      "cell_type": "markdown",
      "source": [
        "**Q.7. Implement a generator function that reads a file line by line and yields each line as a string.**"
      ],
      "metadata": {
        "id": "V9W9q4_aqXQD"
      }
    },
    {
      "cell_type": "code",
      "source": [
        "def read_file_line_by_line(file_path):\n",
        "    \"\"\"Generator that reads a file line by line and yields each line as a string.\"\"\"\n",
        "    try:\n",
        "        with open(file_path, 'r', encoding='utf-8') as file:\n",
        "            for line in file:\n",
        "                yield line.rstrip()  # Yield each line after stripping trailing whitespace\n",
        "    except FileNotFoundError:\n",
        "        print(f\"Error: The file '{file_path}' was not found.\")\n",
        "    except Exception as e:\n",
        "        print(f\"An error occurred: {e}\")\n",
        "\n",
        "# Example usage:\n",
        "file_path = \"example.txt\"  # Replace with your actual file path\n",
        "for line in read_file_line_by_line(file_path):\n",
        "    print(line)\n"
      ],
      "metadata": {
        "colab": {
          "base_uri": "https://localhost:8080/"
        },
        "id": "pCPlJSQer74U",
        "outputId": "0ac2369f-7419-4b95-c0f1-90209e4b756b"
      },
      "execution_count": 9,
      "outputs": [
        {
          "output_type": "stream",
          "name": "stdout",
          "text": [
            "Error: The file 'example.txt' was not found.\n"
          ]
        }
      ]
    },
    {
      "cell_type": "markdown",
      "source": [
        "**Q.8. Use a lambda function in Python to sort a list of tuples based on the second element of each tuple.**"
      ],
      "metadata": {
        "id": "HV5vdqNIsEeN"
      }
    },
    {
      "cell_type": "code",
      "source": [
        "# Sample list of tuples\n",
        "tuples_list = [(1, 5), (3, 2), (4, 8), (2, 1), (6, 4)]\n",
        "\n",
        "# Sorting based on the second element of each tuple\n",
        "sorted_list = sorted(tuples_list, key=lambda x: x[1])\n",
        "\n",
        "# Print the sorted list\n",
        "print(sorted_list)\n"
      ],
      "metadata": {
        "colab": {
          "base_uri": "https://localhost:8080/"
        },
        "id": "PxcMMNjBsIl2",
        "outputId": "7be2a2c5-1f3b-4b8d-ccc8-f0a88df72300"
      },
      "execution_count": 10,
      "outputs": [
        {
          "output_type": "stream",
          "name": "stdout",
          "text": [
            "[(2, 1), (3, 2), (6, 4), (1, 5), (4, 8)]\n"
          ]
        }
      ]
    },
    {
      "cell_type": "markdown",
      "source": [
        "**Q.9. Write a Python program that uses `map()` to convert a list of temperatures from Celsius to Fahrenheit**"
      ],
      "metadata": {
        "id": "DUI8FRvmsVC4"
      }
    },
    {
      "cell_type": "code",
      "source": [
        "# Function to convert Celsius to Fahrenheit\n",
        "def celsius_to_fahrenheit(celsius):\n",
        "    return (celsius * 9/5) + 32\n",
        "\n",
        "# List of temperatures in Celsius\n",
        "celsius_temps = [0, 20, 37, 100, -10]\n",
        "\n",
        "# Using map() to convert to Fahrenheit\n",
        "fahrenheit_temps = list(map(celsius_to_fahrenheit, celsius_temps))\n",
        "\n",
        "# Print the converted temperatures\n",
        "print(fahrenheit_temps)\n"
      ],
      "metadata": {
        "colab": {
          "base_uri": "https://localhost:8080/"
        },
        "id": "RGFkXhjlscXh",
        "outputId": "50dc1743-777d-4458-fe34-b534b32827c0"
      },
      "execution_count": 11,
      "outputs": [
        {
          "output_type": "stream",
          "name": "stdout",
          "text": [
            "[32.0, 68.0, 98.6, 212.0, 14.0]\n"
          ]
        }
      ]
    },
    {
      "cell_type": "markdown",
      "source": [
        "**Q.10. Create a Python program that uses `filter()` to remove all the vowels from a given string.**"
      ],
      "metadata": {
        "id": "o4WjwX_msnn2"
      }
    },
    {
      "cell_type": "code",
      "source": [
        "# Function to check if a character is not a vowel\n",
        "def is_not_vowel(char):\n",
        "    return char.lower() not in 'aeiou'\n",
        "\n",
        "# Given string\n",
        "input_string = \"Hello, World!\"\n",
        "\n",
        "# Using filter() to remove vowels\n",
        "filtered_string = ''.join(filter(is_not_vowel, input_string))\n",
        "\n",
        "# Print the string without vowels\n",
        "print(filtered_string)\n"
      ],
      "metadata": {
        "colab": {
          "base_uri": "https://localhost:8080/"
        },
        "id": "9aSJJJrTsrEd",
        "outputId": "17050f7c-59ff-4c4e-bc7b-2bf4f83e550b"
      },
      "execution_count": 12,
      "outputs": [
        {
          "output_type": "stream",
          "name": "stdout",
          "text": [
            "Hll, Wrld!\n"
          ]
        }
      ]
    },
    {
      "cell_type": "markdown",
      "source": [
        "**Q.11 # Given book order data\n",
        "orders = [\n",
        "    (34587, \"Learning Python, Mark Lutz\", 4, 40.95),\n",
        "    (98762, \"Programming Python, Mark Lutz\", 5, 56.80),\n",
        "    (77226, \"Head First Python, Paul Barry\", 3, 32.95),\n",
        "    (88112, \"Einführung in Python3, Bernd Klein\", 3, 24.99),**"
      ],
      "metadata": {
        "id": "5NhrxVyHvTA2"
      }
    },
    {
      "cell_type": "code",
      "source": [
        "# Given book order data\n",
        "orders = [\n",
        "    (34587, \"Learning Python, Mark Lutz\", 4, 40.95),\n",
        "    (98762, \"Programming Python, Mark Lutz\", 5, 56.80),\n",
        "    (77226, \"Head First Python, Paul Barry\", 3, 32.95),\n",
        "    (88112, \"Einführung in Python3, Bernd Klein\", 3, 24.99),\n",
        "]\n",
        "\n",
        "# Using lambda and map to calculate total price per order\n",
        "order_totals = list(map(lambda order: (order[0], order[2] * order[3] if order[2] * order[3] >= 100 else order[2] * order[3] + 10), orders))\n",
        "\n",
        "# Printing the result\n",
        "print(order_totals)"
      ],
      "metadata": {
        "colab": {
          "base_uri": "https://localhost:8080/"
        },
        "id": "w3UUERK5vToJ",
        "outputId": "9f8770c0-c45b-4a42-fc56-583d8b7dfc90"
      },
      "execution_count": 13,
      "outputs": [
        {
          "output_type": "stream",
          "name": "stdout",
          "text": [
            "[(34587, 163.8), (98762, 284.0), (77226, 108.85000000000001), (88112, 84.97)]\n"
          ]
        }
      ]
    }
  ]
}